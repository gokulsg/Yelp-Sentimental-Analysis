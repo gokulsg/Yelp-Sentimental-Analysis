{
 "cells": [
  {
   "cell_type": "code",
   "execution_count": 1,
   "metadata": {
    "collapsed": true
   },
   "outputs": [],
   "source": [
    "#import libraries\n",
    "import nltk\n",
    "import pickle\n",
    "import re\n",
    "import sys\n",
    "from sklearn.feature_extraction.text import CountVectorizer,TfidfVectorizer\n",
    "from sklearn.ensemble import RandomForestClassifier\n",
    "from nltk.corpus import stopwords # Import the stop word list\n",
    "from sklearn.metrics import classification_report\n",
    "from sklearn.model_selection import train_test_split\n",
    "import json"
   ]
  },
  {
   "cell_type": "code",
   "execution_count": 20,
   "metadata": {
    "collapsed": true
   },
   "outputs": [],
   "source": [
    "def load_data_from_file(filename):\n",
    "    with open(filename) as infile:\n",
    "        features_pos = []\n",
    "        features_neg = []\n",
    "        features = []\n",
    "        labels = []\n",
    "        num_data = 0\n",
    "        num_pos_data = 0\n",
    "        num_neg_data = 0\n",
    "        data_size = 50000\n",
    "        half_size = data_size / 2\n",
    "        for line in infile:\n",
    "\n",
    "            review = json.loads(line)\n",
    "            if int(review['stars']) > 3:    # Positive\n",
    "                if num_pos_data < half_size:\n",
    "                    labels.append('1')\n",
    "                    features.append(review['text'])\n",
    "                    num_pos_data += 1\n",
    "                    num_data += 1\n",
    "\n",
    "            if int(review['stars']) < 3:    # Negative\n",
    "                if num_neg_data < half_size:\n",
    "                    labels.append('-1')\n",
    "                    features.append(review['text'])\n",
    "                    num_neg_data += 1\n",
    "                    num_data += 1\n",
    "\n",
    "            if num_pos_data + num_neg_data == data_size:\n",
    "                # features = features_pos[0:1000] + features_neg[0:1000]\n",
    "                print (len(features), len(labels), num_pos_data, num_neg_data)\n",
    "                return features, labels\n",
    "\n",
    "    return features, labels\n"
   ]
  },
  {
   "cell_type": "code",
   "execution_count": 3,
   "metadata": {
    "collapsed": true
   },
   "outputs": [],
   "source": [
    "def review_to_words( raw_review ):\n",
    "   \n",
    "    # 1. Remove non-letters        \n",
    "    letters_only = re.sub(\"[^a-zA-Z]\", \" \", raw_review) \n",
    "\n",
    "    # 2. Convert to lower case, split into individual words\n",
    "    words = letters_only.lower().split()                             \n",
    "\n",
    "    # 3. In Python, searching a set is much faster than searching\n",
    "    #   a list, so convert the stop words to a set\n",
    "    stops = set(stopwords.words(\"english\"))                  \n",
    " \n",
    "    # 4. Remove stop words\n",
    "    meaningful_words = [w for w in words if not w in stops]   \n",
    "\n",
    "    # 5. Join the words back into one string separated by space, \n",
    "    # and return the result.\n",
    "    return( \" \".join( meaningful_words )) \n"
   ]
  },
  {
   "cell_type": "code",
   "execution_count": 4,
   "metadata": {
    "collapsed": true
   },
   "outputs": [],
   "source": [
    "def buildModelAndTest(vectorizer, forest, X_train, y_train, X_test, y_test):\n",
    "    #preprocess the training reviews\n",
    "    X_train = [review_to_words(review) for review in X_train]\n",
    "    \n",
    "    # fit_transform() does two functions: First, it fits the model\n",
    "    # and learns the vocabulary; second, it transforms our training data\n",
    "    # into feature vectors. The input to fit_transform should be a list of \n",
    "    # strings.\n",
    "    X_train = vectorizer.fit_transform(X_train).toarray()\n",
    "    \n",
    "    X_test = [review_to_words(review) for review in X_test]\n",
    "    X_test = vectorizer.transform(X_test).toarray()\n",
    "    forest = forest.fit( X_train, y_train )\n",
    "\n",
    "    y_pred = forest.predict(X_test)\n",
    "    print(classification_report(y_test,y_pred, target_names=['-1','1']))\n"
   ]
  },
  {
   "cell_type": "code",
   "execution_count": 21,
   "metadata": {
    "collapsed": false
   },
   "outputs": [
    {
     "name": "stdout",
     "output_type": "stream",
     "text": [
      "50000 50000 25000 25000\n"
     ]
    }
   ],
   "source": [
    "X, y = load_data_from_file(\"yelp_academic_dataset_review.json\")\n",
    "X_train, X_test, y_train, y_test = train_test_split(X, y, train_size = 0.7, random_state=42)"
   ]
  },
  {
   "cell_type": "markdown",
   "metadata": {},
   "source": [
    "# EXPERIMENTS"
   ]
  },
  {
   "cell_type": "markdown",
   "metadata": {},
   "source": [
    "Experiment1 : Countvectoriser with maximum features = 5000 and number of trees = 100"
   ]
  },
  {
   "cell_type": "code",
   "execution_count": 26,
   "metadata": {
    "collapsed": true
   },
   "outputs": [],
   "source": [
    "countvectorizer1 = CountVectorizer(analyzer = \"word\", max_features = 5000) "
   ]
  },
  {
   "cell_type": "code",
   "execution_count": 27,
   "metadata": {
    "collapsed": true
   },
   "outputs": [],
   "source": [
    "# Initialize a Random Forest classifier with 100 trees\n",
    "forest1 = RandomForestClassifier(n_estimators = 100) "
   ]
  },
  {
   "cell_type": "code",
   "execution_count": 28,
   "metadata": {
    "collapsed": false
   },
   "outputs": [
    {
     "name": "stdout",
     "output_type": "stream",
     "text": [
      "             precision    recall  f1-score   support\n",
      "\n",
      "         -1       0.88      0.89      0.89      7421\n",
      "          1       0.90      0.89      0.89      7579\n",
      "\n",
      "avg / total       0.89      0.89      0.89     15000\n",
      "\n"
     ]
    }
   ],
   "source": [
    "buildModelAndTest(countvectorizer1,forest1, X_train, y_train, X_test, y_test)"
   ]
  },
  {
   "cell_type": "markdown",
   "metadata": {},
   "source": [
    "Experiment2 : Countvectoriser with maximum features = 2000 and number of trees = 50"
   ]
  },
  {
   "cell_type": "code",
   "execution_count": 33,
   "metadata": {
    "collapsed": false
   },
   "outputs": [
    {
     "name": "stdout",
     "output_type": "stream",
     "text": [
      "             precision    recall  f1-score   support\n",
      "\n",
      "         -1       0.88      0.89      0.88      7421\n",
      "          1       0.89      0.88      0.88      7579\n",
      "\n",
      "avg / total       0.88      0.88      0.88     15000\n",
      "\n"
     ]
    }
   ],
   "source": [
    "countvectorizer2 = CountVectorizer(analyzer = \"word\", max_features = 2000) \n",
    "forest2 = RandomForestClassifier(n_estimators = 50) \n",
    "buildModelAndTest(countvectorizer2,forest2, X_train, y_train, X_test, y_test)"
   ]
  },
  {
   "cell_type": "markdown",
   "metadata": {},
   "source": [
    "Experiment3 : Countvectoriser with maximum features = 5000, number of trees =100 and using bigrams and trigrams"
   ]
  },
  {
   "cell_type": "code",
   "execution_count": 36,
   "metadata": {
    "collapsed": false
   },
   "outputs": [
    {
     "name": "stdout",
     "output_type": "stream",
     "text": [
      "             precision    recall  f1-score   support\n",
      "\n",
      "         -1       0.89      0.90      0.89      7421\n",
      "          1       0.90      0.89      0.89      7579\n",
      "\n",
      "avg / total       0.89      0.89      0.89     15000\n",
      "\n"
     ]
    }
   ],
   "source": [
    "countvectorizer3 = CountVectorizer(analyzer = \"word\", max_features = 5000, ngram_range = (1,3)) \n",
    "forest3 = RandomForestClassifier(n_estimators = 100) \n",
    "buildModelAndTest(countvectorizer3,forest3, X_train, y_train, X_test, y_test)\n"
   ]
  },
  {
   "cell_type": "markdown",
   "metadata": {},
   "source": [
    "Experiment4 : TFIDF vectorizer with number of trees = 100"
   ]
  },
  {
   "cell_type": "code",
   "execution_count": 38,
   "metadata": {
    "collapsed": false
   },
   "outputs": [
    {
     "name": "stdout",
     "output_type": "stream",
     "text": [
      "             precision    recall  f1-score   support\n",
      "\n",
      "         -1       0.88      0.90      0.89      7421\n",
      "          1       0.90      0.88      0.89      7579\n",
      "\n",
      "avg / total       0.89      0.89      0.89     15000\n",
      "\n"
     ]
    }
   ],
   "source": [
    "tfidfvectorizer1 = TfidfVectorizer(min_df=5, sublinear_tf=True, use_idf=True)\n",
    "forest4 = RandomForestClassifier(n_estimators = 100) \n",
    "buildModelAndTest(tfidfvectorizer1,forest4, X_train, y_train, X_test, y_test)\n"
   ]
  },
  {
   "cell_type": "markdown",
   "metadata": {},
   "source": [
    "Experiment5 : TFIDF vectorizer with number of trees = 50"
   ]
  },
  {
   "cell_type": "code",
   "execution_count": 24,
   "metadata": {
    "collapsed": false
   },
   "outputs": [
    {
     "name": "stdout",
     "output_type": "stream",
     "text": [
      "             precision    recall  f1-score   support\n",
      "\n",
      "         -1       0.87      0.90      0.88      7421\n",
      "          1       0.90      0.87      0.88      7579\n",
      "\n",
      "avg / total       0.88      0.88      0.88     15000\n",
      "\n"
     ]
    }
   ],
   "source": [
    "tfidfvectorizer2 = TfidfVectorizer(min_df=5, sublinear_tf=True, use_idf=True)\n",
    "forest5 = RandomForestClassifier(n_estimators = 50) \n",
    "buildModelAndTest(tfidfvectorizer2,forest5, X_train, y_train, X_test, y_test)"
   ]
  },
  {
   "cell_type": "markdown",
   "metadata": {},
   "source": [
    "Experiment6 : TFIDF vectorizer with number of trees = 50 and maximum depth of each tree = 5"
   ]
  },
  {
   "cell_type": "code",
   "execution_count": 27,
   "metadata": {
    "collapsed": false
   },
   "outputs": [
    {
     "name": "stdout",
     "output_type": "stream",
     "text": [
      "             precision    recall  f1-score   support\n",
      "\n",
      "         -1       0.87      0.79      0.83      7421\n",
      "          1       0.81      0.88      0.84      7579\n",
      "\n",
      "avg / total       0.84      0.84      0.84     15000\n",
      "\n"
     ]
    }
   ],
   "source": [
    "tfidfvectorizer2 = TfidfVectorizer(min_df=5, sublinear_tf=True, use_idf=True)\n",
    "\n",
    "forest6 = RandomForestClassifier(bootstrap=True, class_weight=None, criterion='gini',\n",
    "            max_depth=5, max_features='auto', max_leaf_nodes=None,\n",
    "            min_impurity_split=1e-07, min_samples_leaf=2,\n",
    "            min_samples_split=2, min_weight_fraction_leaf=0.0,\n",
    "            n_estimators=50, n_jobs=1, oob_score=False, random_state=None,\n",
    "            verbose=0, warm_start=True)\n",
    "buildModelAndTest(tfidfvectorizer2,forest6, X_train, y_train, X_test, y_test)"
   ]
  },
  {
   "cell_type": "markdown",
   "metadata": {},
   "source": [
    "Experiment7 : TFIDF vectorizer with number of trees = 100 and maximum depth of each tree = 15"
   ]
  },
  {
   "cell_type": "code",
   "execution_count": 34,
   "metadata": {
    "collapsed": false
   },
   "outputs": [
    {
     "name": "stderr",
     "output_type": "stream",
     "text": [
      "/Users/ritesh/Documents/NLP/Perceptron/nlp/lib/python3.5/site-packages/sklearn/ensemble/forest.py:303: UserWarning: Warm-start fitting without increasing n_estimators does not fit new trees.\n",
      "  warn(\"Warm-start fitting without increasing n_estimators does not \"\n"
     ]
    },
    {
     "name": "stdout",
     "output_type": "stream",
     "text": [
      "             precision    recall  f1-score   support\n",
      "\n",
      "         -1       0.87      0.79      0.83      7421\n",
      "          1       0.81      0.88      0.84      7579\n",
      "\n",
      "avg / total       0.84      0.84      0.84     15000\n",
      "\n"
     ]
    }
   ],
   "source": [
    "\n",
    "forest7 = RandomForestClassifier(bootstrap=True, class_weight=None, criterion='gini',\n",
    "            max_depth=15, max_features='auto', max_leaf_nodes=None,\n",
    "            min_impurity_split=1e-07, \n",
    "            min_samples_split=None, min_weight_fraction_leaf=0.0,\n",
    "            n_estimators=100, n_jobs=1, oob_score=False, random_state=None,\n",
    "            verbose=0, warm_start=False)\n",
    "buildModelAndTest(tfidfvectorizer2,forest6, X_train, y_train, X_test, y_test)"
   ]
  },
  {
   "cell_type": "code",
   "execution_count": null,
   "metadata": {
    "collapsed": true
   },
   "outputs": [],
   "source": []
  }
 ],
 "metadata": {
  "kernelspec": {
   "display_name": "Python 3",
   "language": "python",
   "name": "python3"
  },
  "language_info": {
   "codemirror_mode": {
    "name": "ipython",
    "version": 3
   },
   "file_extension": ".py",
   "mimetype": "text/x-python",
   "name": "python",
   "nbconvert_exporter": "python",
   "pygments_lexer": "ipython3",
   "version": "3.5.2"
  }
 },
 "nbformat": 4,
 "nbformat_minor": 1
}
